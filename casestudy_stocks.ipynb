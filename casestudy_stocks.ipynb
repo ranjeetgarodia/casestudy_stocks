{
 "cells": [
  {
   "cell_type": "code",
   "execution_count": 1,
   "metadata": {},
   "outputs": [],
   "source": [
    "import numpy as np\n",
    "import pandas as pd\n",
    "import matplotlib.pyplot as plt\n",
    "import seaborn as sns"
   ]
  },
  {
   "cell_type": "code",
   "execution_count": 52,
   "metadata": {},
   "outputs": [],
   "source": [
    "apple_data = pd.read_csv('apple.csv')\n",
    "google_data = pd.read_csv('google.csv')\n",
    "ibm_data = pd.read_csv('ibm.csv')\n",
    "microsoft_data = pd.read_csv('microsoft.csv')"
   ]
  },
  {
   "cell_type": "code",
   "execution_count": 53,
   "metadata": {},
   "outputs": [
    {
     "data": {
      "text/html": [
       "<div>\n",
       "<style scoped>\n",
       "    .dataframe tbody tr th:only-of-type {\n",
       "        vertical-align: middle;\n",
       "    }\n",
       "\n",
       "    .dataframe tbody tr th {\n",
       "        vertical-align: top;\n",
       "    }\n",
       "\n",
       "    .dataframe thead th {\n",
       "        text-align: right;\n",
       "    }\n",
       "</style>\n",
       "<table border=\"1\" class=\"dataframe\">\n",
       "  <thead>\n",
       "    <tr style=\"text-align: right;\">\n",
       "      <th></th>\n",
       "      <th>Date</th>\n",
       "      <th>Open</th>\n",
       "      <th>High</th>\n",
       "      <th>Low</th>\n",
       "      <th>Close</th>\n",
       "      <th>Volume</th>\n",
       "    </tr>\n",
       "  </thead>\n",
       "  <tbody>\n",
       "    <tr>\n",
       "      <th>0</th>\n",
       "      <td>2016-09-01</td>\n",
       "      <td>106.14</td>\n",
       "      <td>106.80</td>\n",
       "      <td>105.62</td>\n",
       "      <td>106.73</td>\n",
       "      <td>26701523</td>\n",
       "    </tr>\n",
       "    <tr>\n",
       "      <th>1</th>\n",
       "      <td>2016-09-02</td>\n",
       "      <td>107.70</td>\n",
       "      <td>108.00</td>\n",
       "      <td>106.82</td>\n",
       "      <td>107.73</td>\n",
       "      <td>26334858</td>\n",
       "    </tr>\n",
       "    <tr>\n",
       "      <th>2</th>\n",
       "      <td>2016-09-06</td>\n",
       "      <td>107.90</td>\n",
       "      <td>108.30</td>\n",
       "      <td>107.51</td>\n",
       "      <td>107.70</td>\n",
       "      <td>26880391</td>\n",
       "    </tr>\n",
       "    <tr>\n",
       "      <th>3</th>\n",
       "      <td>2016-09-07</td>\n",
       "      <td>107.83</td>\n",
       "      <td>108.76</td>\n",
       "      <td>107.07</td>\n",
       "      <td>108.36</td>\n",
       "      <td>42364328</td>\n",
       "    </tr>\n",
       "    <tr>\n",
       "      <th>4</th>\n",
       "      <td>2016-09-08</td>\n",
       "      <td>107.25</td>\n",
       "      <td>107.27</td>\n",
       "      <td>105.24</td>\n",
       "      <td>105.52</td>\n",
       "      <td>53002026</td>\n",
       "    </tr>\n",
       "  </tbody>\n",
       "</table>\n",
       "</div>"
      ],
      "text/plain": [
       "         Date    Open    High     Low   Close    Volume\n",
       "0  2016-09-01  106.14  106.80  105.62  106.73  26701523\n",
       "1  2016-09-02  107.70  108.00  106.82  107.73  26334858\n",
       "2  2016-09-06  107.90  108.30  107.51  107.70  26880391\n",
       "3  2016-09-07  107.83  108.76  107.07  108.36  42364328\n",
       "4  2016-09-08  107.25  107.27  105.24  105.52  53002026"
      ]
     },
     "execution_count": 53,
     "metadata": {},
     "output_type": "execute_result"
    }
   ],
   "source": [
    "apple_data.head()"
   ]
  },
  {
   "cell_type": "code",
   "execution_count": 54,
   "metadata": {},
   "outputs": [
    {
     "data": {
      "text/html": [
       "<div>\n",
       "<style scoped>\n",
       "    .dataframe tbody tr th:only-of-type {\n",
       "        vertical-align: middle;\n",
       "    }\n",
       "\n",
       "    .dataframe tbody tr th {\n",
       "        vertical-align: top;\n",
       "    }\n",
       "\n",
       "    .dataframe thead th {\n",
       "        text-align: right;\n",
       "    }\n",
       "</style>\n",
       "<table border=\"1\" class=\"dataframe\">\n",
       "  <thead>\n",
       "    <tr style=\"text-align: right;\">\n",
       "      <th></th>\n",
       "      <th>Date</th>\n",
       "      <th>Open</th>\n",
       "      <th>High</th>\n",
       "      <th>Low</th>\n",
       "      <th>Close</th>\n",
       "      <th>Volume</th>\n",
       "    </tr>\n",
       "  </thead>\n",
       "  <tbody>\n",
       "    <tr>\n",
       "      <th>0</th>\n",
       "      <td>2016-09-01</td>\n",
       "      <td>106.14</td>\n",
       "      <td>106.80</td>\n",
       "      <td>105.62</td>\n",
       "      <td>106.73</td>\n",
       "      <td>26701523</td>\n",
       "    </tr>\n",
       "    <tr>\n",
       "      <th>1</th>\n",
       "      <td>2016-09-02</td>\n",
       "      <td>107.70</td>\n",
       "      <td>108.00</td>\n",
       "      <td>106.82</td>\n",
       "      <td>107.73</td>\n",
       "      <td>26334858</td>\n",
       "    </tr>\n",
       "    <tr>\n",
       "      <th>2</th>\n",
       "      <td>2016-09-06</td>\n",
       "      <td>107.90</td>\n",
       "      <td>108.30</td>\n",
       "      <td>107.51</td>\n",
       "      <td>107.70</td>\n",
       "      <td>26880391</td>\n",
       "    </tr>\n",
       "    <tr>\n",
       "      <th>3</th>\n",
       "      <td>2016-09-07</td>\n",
       "      <td>107.83</td>\n",
       "      <td>108.76</td>\n",
       "      <td>107.07</td>\n",
       "      <td>108.36</td>\n",
       "      <td>42364328</td>\n",
       "    </tr>\n",
       "    <tr>\n",
       "      <th>4</th>\n",
       "      <td>2016-09-08</td>\n",
       "      <td>107.25</td>\n",
       "      <td>107.27</td>\n",
       "      <td>105.24</td>\n",
       "      <td>105.52</td>\n",
       "      <td>53002026</td>\n",
       "    </tr>\n",
       "  </tbody>\n",
       "</table>\n",
       "</div>"
      ],
      "text/plain": [
       "         Date    Open    High     Low   Close    Volume\n",
       "0  2016-09-01  106.14  106.80  105.62  106.73  26701523\n",
       "1  2016-09-02  107.70  108.00  106.82  107.73  26334858\n",
       "2  2016-09-06  107.90  108.30  107.51  107.70  26880391\n",
       "3  2016-09-07  107.83  108.76  107.07  108.36  42364328\n",
       "4  2016-09-08  107.25  107.27  105.24  105.52  53002026"
      ]
     },
     "execution_count": 54,
     "metadata": {},
     "output_type": "execute_result"
    }
   ],
   "source": [
    "apple_data_tmp = apple_data\n",
    "apple_data_tmp.head()"
   ]
  },
  {
   "cell_type": "code",
   "execution_count": 55,
   "metadata": {},
   "outputs": [
    {
     "data": {
      "text/html": [
       "<div>\n",
       "<style scoped>\n",
       "    .dataframe tbody tr th:only-of-type {\n",
       "        vertical-align: middle;\n",
       "    }\n",
       "\n",
       "    .dataframe tbody tr th {\n",
       "        vertical-align: top;\n",
       "    }\n",
       "\n",
       "    .dataframe thead th {\n",
       "        text-align: right;\n",
       "    }\n",
       "</style>\n",
       "<table border=\"1\" class=\"dataframe\">\n",
       "  <thead>\n",
       "    <tr style=\"text-align: right;\">\n",
       "      <th></th>\n",
       "      <th>Open</th>\n",
       "      <th>High</th>\n",
       "      <th>Low</th>\n",
       "      <th>Close</th>\n",
       "      <th>Volume</th>\n",
       "    </tr>\n",
       "    <tr>\n",
       "      <th>Date</th>\n",
       "      <th></th>\n",
       "      <th></th>\n",
       "      <th></th>\n",
       "      <th></th>\n",
       "      <th></th>\n",
       "    </tr>\n",
       "  </thead>\n",
       "  <tbody>\n",
       "    <tr>\n",
       "      <th>2016-09-01</th>\n",
       "      <td>106.14</td>\n",
       "      <td>106.80</td>\n",
       "      <td>105.62</td>\n",
       "      <td>106.73</td>\n",
       "      <td>26701523</td>\n",
       "    </tr>\n",
       "    <tr>\n",
       "      <th>2016-09-02</th>\n",
       "      <td>107.70</td>\n",
       "      <td>108.00</td>\n",
       "      <td>106.82</td>\n",
       "      <td>107.73</td>\n",
       "      <td>26334858</td>\n",
       "    </tr>\n",
       "    <tr>\n",
       "      <th>2016-09-06</th>\n",
       "      <td>107.90</td>\n",
       "      <td>108.30</td>\n",
       "      <td>107.51</td>\n",
       "      <td>107.70</td>\n",
       "      <td>26880391</td>\n",
       "    </tr>\n",
       "    <tr>\n",
       "      <th>2016-09-07</th>\n",
       "      <td>107.83</td>\n",
       "      <td>108.76</td>\n",
       "      <td>107.07</td>\n",
       "      <td>108.36</td>\n",
       "      <td>42364328</td>\n",
       "    </tr>\n",
       "    <tr>\n",
       "      <th>2016-09-08</th>\n",
       "      <td>107.25</td>\n",
       "      <td>107.27</td>\n",
       "      <td>105.24</td>\n",
       "      <td>105.52</td>\n",
       "      <td>53002026</td>\n",
       "    </tr>\n",
       "  </tbody>\n",
       "</table>\n",
       "</div>"
      ],
      "text/plain": [
       "              Open    High     Low   Close    Volume\n",
       "Date                                                \n",
       "2016-09-01  106.14  106.80  105.62  106.73  26701523\n",
       "2016-09-02  107.70  108.00  106.82  107.73  26334858\n",
       "2016-09-06  107.90  108.30  107.51  107.70  26880391\n",
       "2016-09-07  107.83  108.76  107.07  108.36  42364328\n",
       "2016-09-08  107.25  107.27  105.24  105.52  53002026"
      ]
     },
     "execution_count": 55,
     "metadata": {},
     "output_type": "execute_result"
    }
   ],
   "source": [
    "index_apple_data= apple_data.set_index('Date')\n",
    "index_apple_data.head()\n",
    "#apple_data_tmp.head()"
   ]
  },
  {
   "cell_type": "code",
   "execution_count": 56,
   "metadata": {},
   "outputs": [
    {
     "data": {
      "text/html": [
       "<div>\n",
       "<style scoped>\n",
       "    .dataframe tbody tr th:only-of-type {\n",
       "        vertical-align: middle;\n",
       "    }\n",
       "\n",
       "    .dataframe tbody tr th {\n",
       "        vertical-align: top;\n",
       "    }\n",
       "\n",
       "    .dataframe thead th {\n",
       "        text-align: right;\n",
       "    }\n",
       "</style>\n",
       "<table border=\"1\" class=\"dataframe\">\n",
       "  <thead>\n",
       "    <tr style=\"text-align: right;\">\n",
       "      <th></th>\n",
       "      <th>Open</th>\n",
       "      <th>High</th>\n",
       "      <th>Low</th>\n",
       "      <th>Close</th>\n",
       "      <th>Volume</th>\n",
       "      <th>mvg_Avg</th>\n",
       "    </tr>\n",
       "    <tr>\n",
       "      <th>Date</th>\n",
       "      <th></th>\n",
       "      <th></th>\n",
       "      <th></th>\n",
       "      <th></th>\n",
       "      <th></th>\n",
       "      <th></th>\n",
       "    </tr>\n",
       "  </thead>\n",
       "  <tbody>\n",
       "    <tr>\n",
       "      <th>2016-09-01</th>\n",
       "      <td>106.14</td>\n",
       "      <td>106.80</td>\n",
       "      <td>105.62</td>\n",
       "      <td>106.73</td>\n",
       "      <td>26701523</td>\n",
       "      <td>NaN</td>\n",
       "    </tr>\n",
       "    <tr>\n",
       "      <th>2016-09-02</th>\n",
       "      <td>107.70</td>\n",
       "      <td>108.00</td>\n",
       "      <td>106.82</td>\n",
       "      <td>107.73</td>\n",
       "      <td>26334858</td>\n",
       "      <td>NaN</td>\n",
       "    </tr>\n",
       "    <tr>\n",
       "      <th>2016-09-06</th>\n",
       "      <td>107.90</td>\n",
       "      <td>108.30</td>\n",
       "      <td>107.51</td>\n",
       "      <td>107.70</td>\n",
       "      <td>26880391</td>\n",
       "      <td>NaN</td>\n",
       "    </tr>\n",
       "    <tr>\n",
       "      <th>2016-09-07</th>\n",
       "      <td>107.83</td>\n",
       "      <td>108.76</td>\n",
       "      <td>107.07</td>\n",
       "      <td>108.36</td>\n",
       "      <td>42364328</td>\n",
       "      <td>NaN</td>\n",
       "    </tr>\n",
       "    <tr>\n",
       "      <th>2016-09-08</th>\n",
       "      <td>107.25</td>\n",
       "      <td>107.27</td>\n",
       "      <td>105.24</td>\n",
       "      <td>105.52</td>\n",
       "      <td>53002026</td>\n",
       "      <td>35056625.2</td>\n",
       "    </tr>\n",
       "    <tr>\n",
       "      <th>2016-09-09</th>\n",
       "      <td>104.64</td>\n",
       "      <td>105.72</td>\n",
       "      <td>103.13</td>\n",
       "      <td>103.13</td>\n",
       "      <td>46556984</td>\n",
       "      <td>39027717.4</td>\n",
       "    </tr>\n",
       "    <tr>\n",
       "      <th>2016-09-12</th>\n",
       "      <td>102.65</td>\n",
       "      <td>105.72</td>\n",
       "      <td>102.53</td>\n",
       "      <td>105.44</td>\n",
       "      <td>45292770</td>\n",
       "      <td>42819299.8</td>\n",
       "    </tr>\n",
       "    <tr>\n",
       "      <th>2016-09-13</th>\n",
       "      <td>107.51</td>\n",
       "      <td>108.79</td>\n",
       "      <td>107.24</td>\n",
       "      <td>107.95</td>\n",
       "      <td>62176190</td>\n",
       "      <td>49878459.6</td>\n",
       "    </tr>\n",
       "    <tr>\n",
       "      <th>2016-09-14</th>\n",
       "      <td>108.73</td>\n",
       "      <td>113.03</td>\n",
       "      <td>108.60</td>\n",
       "      <td>111.77</td>\n",
       "      <td>112340318</td>\n",
       "      <td>63873657.6</td>\n",
       "    </tr>\n",
       "    <tr>\n",
       "      <th>2016-09-15</th>\n",
       "      <td>113.86</td>\n",
       "      <td>115.73</td>\n",
       "      <td>113.49</td>\n",
       "      <td>115.57</td>\n",
       "      <td>90613177</td>\n",
       "      <td>71395887.8</td>\n",
       "    </tr>\n",
       "  </tbody>\n",
       "</table>\n",
       "</div>"
      ],
      "text/plain": [
       "              Open    High     Low   Close     Volume     mvg_Avg\n",
       "Date                                                             \n",
       "2016-09-01  106.14  106.80  105.62  106.73   26701523         NaN\n",
       "2016-09-02  107.70  108.00  106.82  107.73   26334858         NaN\n",
       "2016-09-06  107.90  108.30  107.51  107.70   26880391         NaN\n",
       "2016-09-07  107.83  108.76  107.07  108.36   42364328         NaN\n",
       "2016-09-08  107.25  107.27  105.24  105.52   53002026  35056625.2\n",
       "2016-09-09  104.64  105.72  103.13  103.13   46556984  39027717.4\n",
       "2016-09-12  102.65  105.72  102.53  105.44   45292770  42819299.8\n",
       "2016-09-13  107.51  108.79  107.24  107.95   62176190  49878459.6\n",
       "2016-09-14  108.73  113.03  108.60  111.77  112340318  63873657.6\n",
       "2016-09-15  113.86  115.73  113.49  115.57   90613177  71395887.8"
      ]
     },
     "execution_count": 56,
     "metadata": {},
     "output_type": "execute_result"
    }
   ],
   "source": [
    "index_apple_data['mvg_Avg'] = index_apple_data.Volume.rolling(5).mean()\n",
    "index_apple_data.head(10)"
   ]
  },
  {
   "cell_type": "code",
   "execution_count": 58,
   "metadata": {},
   "outputs": [
    {
     "data": {
      "text/plain": [
       "<matplotlib.axes._subplots.AxesSubplot at 0x18c7508b2e8>"
      ]
     },
     "execution_count": 58,
     "metadata": {},
     "output_type": "execute_result"
    },
    {
     "data": {
      "image/png": "[encoded data removed]",
      "text/plain": [
       "<Figure size 432x288 with 1 Axes>"
      ]
     },
     "metadata": {
      "needs_background": "light"
     },
     "output_type": "display_data"
    }
   ],
   "source": [
    "index_apple_data['Close'].plot(grid=True)"
   ]
  },
  {
   "cell_type": "markdown",
   "metadata": {},
   "source": [
    "### checking shape for each data"
   ]
  },
  {
   "cell_type": "code",
   "execution_count": 59,
   "metadata": {},
   "outputs": [
    {
     "name": "stdout",
     "output_type": "stream",
     "text": [
      "apple_data shape:: (187, 6)\n",
      "google_data shape:: (187, 6)\n",
      "ibm_data :: (187, 6)\n",
      "microsoft_data :: (187, 6)\n"
     ]
    }
   ],
   "source": [
    "print('apple_data shape::',apple_data.shape)\n",
    "print('google_data shape::',google_data.shape)\n",
    "print('ibm_data ::',ibm_data.shape)\n",
    "print('microsoft_data ::',microsoft_data.shape)\n",
    "# print(appl_data.isna().any())"
   ]
  },
  {
   "cell_type": "markdown",
   "metadata": {},
   "source": [
    "#### means all data are having same number of records Rows/columns"
   ]
  },
  {
   "cell_type": "markdown",
   "metadata": {},
   "source": [
    "### checking if there is any null data"
   ]
  },
  {
   "cell_type": "code",
   "execution_count": 60,
   "metadata": {},
   "outputs": [
    {
     "name": "stdout",
     "output_type": "stream",
     "text": [
      "apple_data null columns :: Index([], dtype='object')\n",
      "google_data null columns :: Index([], dtype='object')\n",
      "ibm_data null columns :: Index([], dtype='object')\n",
      "microsoft_data null columns :: Index([], dtype='object')\n"
     ]
    }
   ],
   "source": [
    "print('apple_data null columns ::',apple_data.columns[apple_data.isna().any()])\n",
    "print('google_data null columns ::',google_data.columns[google_data.isna().any()])\n",
    "print('ibm_data null columns ::',ibm_data.columns[ibm_data.isna().any()])\n",
    "print('microsoft_data null columns ::',microsoft_data.columns[microsoft_data.isna().any()])"
   ]
  },
  {
   "cell_type": "markdown",
   "metadata": {},
   "source": [
    "#### no data has NaN values in any columns "
   ]
  },
  {
   "cell_type": "code",
   "execution_count": 61,
   "metadata": {},
   "outputs": [],
   "source": [
    "mvg_avg = apple_data.Volume.rolling(5).mean()"
   ]
  },
  {
   "cell_type": "code",
   "execution_count": 62,
   "metadata": {},
   "outputs": [],
   "source": [
    "apple_data['mvg_Avg'] = apple_data.Volume.rolling(5).mean()"
   ]
  },
  {
   "cell_type": "code",
   "execution_count": 63,
   "metadata": {},
   "outputs": [],
   "source": [
    "apple_data['mvg_Avg'] =apple_data.Volume.rolling(5).mean()"
   ]
  },
  {
   "cell_type": "code",
   "execution_count": 64,
   "metadata": {},
   "outputs": [
    {
     "data": {
      "text/html": [
       "<div>\n",
       "<style scoped>\n",
       "    .dataframe tbody tr th:only-of-type {\n",
       "        vertical-align: middle;\n",
       "    }\n",
       "\n",
       "    .dataframe tbody tr th {\n",
       "        vertical-align: top;\n",
       "    }\n",
       "\n",
       "    .dataframe thead th {\n",
       "        text-align: right;\n",
       "    }\n",
       "</style>\n",
       "<table border=\"1\" class=\"dataframe\">\n",
       "  <thead>\n",
       "    <tr style=\"text-align: right;\">\n",
       "      <th></th>\n",
       "      <th>Date</th>\n",
       "      <th>Open</th>\n",
       "      <th>High</th>\n",
       "      <th>Low</th>\n",
       "      <th>Close</th>\n",
       "      <th>Volume</th>\n",
       "      <th>mvg_Avg</th>\n",
       "    </tr>\n",
       "  </thead>\n",
       "  <tbody>\n",
       "    <tr>\n",
       "      <th>0</th>\n",
       "      <td>2016-09-01</td>\n",
       "      <td>106.14</td>\n",
       "      <td>106.80</td>\n",
       "      <td>105.62</td>\n",
       "      <td>106.73</td>\n",
       "      <td>26701523</td>\n",
       "      <td>NaN</td>\n",
       "    </tr>\n",
       "    <tr>\n",
       "      <th>1</th>\n",
       "      <td>2016-09-02</td>\n",
       "      <td>107.70</td>\n",
       "      <td>108.00</td>\n",
       "      <td>106.82</td>\n",
       "      <td>107.73</td>\n",
       "      <td>26334858</td>\n",
       "      <td>NaN</td>\n",
       "    </tr>\n",
       "    <tr>\n",
       "      <th>2</th>\n",
       "      <td>2016-09-06</td>\n",
       "      <td>107.90</td>\n",
       "      <td>108.30</td>\n",
       "      <td>107.51</td>\n",
       "      <td>107.70</td>\n",
       "      <td>26880391</td>\n",
       "      <td>NaN</td>\n",
       "    </tr>\n",
       "    <tr>\n",
       "      <th>3</th>\n",
       "      <td>2016-09-07</td>\n",
       "      <td>107.83</td>\n",
       "      <td>108.76</td>\n",
       "      <td>107.07</td>\n",
       "      <td>108.36</td>\n",
       "      <td>42364328</td>\n",
       "      <td>NaN</td>\n",
       "    </tr>\n",
       "    <tr>\n",
       "      <th>4</th>\n",
       "      <td>2016-09-08</td>\n",
       "      <td>107.25</td>\n",
       "      <td>107.27</td>\n",
       "      <td>105.24</td>\n",
       "      <td>105.52</td>\n",
       "      <td>53002026</td>\n",
       "      <td>35056625.2</td>\n",
       "    </tr>\n",
       "  </tbody>\n",
       "</table>\n",
       "</div>"
      ],
      "text/plain": [
       "         Date    Open    High     Low   Close    Volume     mvg_Avg\n",
       "0  2016-09-01  106.14  106.80  105.62  106.73  26701523         NaN\n",
       "1  2016-09-02  107.70  108.00  106.82  107.73  26334858         NaN\n",
       "2  2016-09-06  107.90  108.30  107.51  107.70  26880391         NaN\n",
       "3  2016-09-07  107.83  108.76  107.07  108.36  42364328         NaN\n",
       "4  2016-09-08  107.25  107.27  105.24  105.52  53002026  35056625.2"
      ]
     },
     "execution_count": 64,
     "metadata": {},
     "output_type": "execute_result"
    }
   ],
   "source": [
    "apple_data.head()"
   ]
  },
  {
   "cell_type": "code",
   "execution_count": 65,
   "metadata": {},
   "outputs": [],
   "source": [
    "#mvg_avg = google_data.Volume.rolling(5).mean()\n",
    "#google_data['mvg_avg'] = mvg_avg\n",
    "google_data['mvg_avg']=google_data.Volume.rolling(5).mean()\n",
    "\n",
    "mvg_avg = ibm_data.Volume.rolling(5).mean()\n",
    "ibm_data['mvg_avg']=mvg_avg\n",
    "\n",
    "mvg_avg = microsoft_data.Volume.rolling(5).mean()\n",
    "microsoft_data['mvg_data'] = mvg_avg"
   ]
  },
  {
   "cell_type": "code",
   "execution_count": 66,
   "metadata": {},
   "outputs": [
    {
     "data": {
      "image/png": "[encoded data removed]",
      "text/plain": [
       "<Figure size 432x288 with 1 Axes>"
      ]
     },
     "metadata": {
      "needs_background": "light"
     },
     "output_type": "display_data"
    }
   ],
   "source": [
    "apple_data.Volume.plot(label='Volume')\n",
    "apple_data.mvg_Avg.plot(label='mvg_avg')\n",
    "plt.legend()\n",
    "plt.show()"
   ]
  },
  {
   "cell_type": "markdown",
   "metadata": {},
   "source": [
    "#### compare to Volumn, mvg_avg fluctuation is less "
   ]
  },
  {
   "cell_type": "code",
   "execution_count": 67,
   "metadata": {},
   "outputs": [],
   "source": [
    "## Create ticker \n",
    "tikcer = ['APPL','GOOGL','IBM','MRFT']"
   ]
  },
  {
   "cell_type": "markdown",
   "metadata": {},
   "source": [
    "#### concatenate all stokcs price in same dataframe w.r.t time "
   ]
  },
  {
   "cell_type": "code",
   "execution_count": 68,
   "metadata": {},
   "outputs": [
    {
     "data": {
      "text/html": [
       "<div>\n",
       "<style scoped>\n",
       "    .dataframe tbody tr th:only-of-type {\n",
       "        vertical-align: middle;\n",
       "    }\n",
       "\n",
       "    .dataframe tbody tr th {\n",
       "        vertical-align: top;\n",
       "    }\n",
       "\n",
       "    .dataframe thead tr th {\n",
       "        text-align: left;\n",
       "    }\n",
       "</style>\n",
       "<table border=\"1\" class=\"dataframe\">\n",
       "  <thead>\n",
       "    <tr>\n",
       "      <th></th>\n",
       "      <th colspan=\"7\" halign=\"left\">APPL</th>\n",
       "      <th colspan=\"3\" halign=\"left\">GOOGL</th>\n",
       "      <th>...</th>\n",
       "      <th colspan=\"3\" halign=\"left\">IBM</th>\n",
       "      <th colspan=\"7\" halign=\"left\">MRFT</th>\n",
       "    </tr>\n",
       "    <tr>\n",
       "      <th></th>\n",
       "      <th>Date</th>\n",
       "      <th>Open</th>\n",
       "      <th>High</th>\n",
       "      <th>Low</th>\n",
       "      <th>Close</th>\n",
       "      <th>Volume</th>\n",
       "      <th>mvg_Avg</th>\n",
       "      <th>Date</th>\n",
       "      <th>Open</th>\n",
       "      <th>High</th>\n",
       "      <th>...</th>\n",
       "      <th>Close</th>\n",
       "      <th>Volume</th>\n",
       "      <th>mvg_avg</th>\n",
       "      <th>Date</th>\n",
       "      <th>Open</th>\n",
       "      <th>High</th>\n",
       "      <th>Low</th>\n",
       "      <th>Close</th>\n",
       "      <th>Volume</th>\n",
       "      <th>mvg_data</th>\n",
       "    </tr>\n",
       "  </thead>\n",
       "  <tbody>\n",
       "    <tr>\n",
       "      <th>0</th>\n",
       "      <td>2016-09-01</td>\n",
       "      <td>106.14</td>\n",
       "      <td>106.80</td>\n",
       "      <td>105.62</td>\n",
       "      <td>106.73</td>\n",
       "      <td>26701523</td>\n",
       "      <td>NaN</td>\n",
       "      <td>2016-09-01</td>\n",
       "      <td>791.98</td>\n",
       "      <td>792.89</td>\n",
       "      <td>...</td>\n",
       "      <td>159.54</td>\n",
       "      <td>2358385</td>\n",
       "      <td>NaN</td>\n",
       "      <td>2016-09-01</td>\n",
       "      <td>57.01</td>\n",
       "      <td>57.82</td>\n",
       "      <td>57.01</td>\n",
       "      <td>57.59</td>\n",
       "      <td>26075363</td>\n",
       "      <td>NaN</td>\n",
       "    </tr>\n",
       "    <tr>\n",
       "      <th>1</th>\n",
       "      <td>2016-09-02</td>\n",
       "      <td>107.70</td>\n",
       "      <td>108.00</td>\n",
       "      <td>106.82</td>\n",
       "      <td>107.73</td>\n",
       "      <td>26334858</td>\n",
       "      <td>NaN</td>\n",
       "      <td>2016-09-02</td>\n",
       "      <td>795.27</td>\n",
       "      <td>797.10</td>\n",
       "      <td>...</td>\n",
       "      <td>159.55</td>\n",
       "      <td>2315366</td>\n",
       "      <td>NaN</td>\n",
       "      <td>2016-09-02</td>\n",
       "      <td>57.67</td>\n",
       "      <td>58.19</td>\n",
       "      <td>57.42</td>\n",
       "      <td>57.67</td>\n",
       "      <td>18900489</td>\n",
       "      <td>NaN</td>\n",
       "    </tr>\n",
       "    <tr>\n",
       "      <th>2</th>\n",
       "      <td>2016-09-06</td>\n",
       "      <td>107.90</td>\n",
       "      <td>108.30</td>\n",
       "      <td>107.51</td>\n",
       "      <td>107.70</td>\n",
       "      <td>26880391</td>\n",
       "      <td>NaN</td>\n",
       "      <td>2016-09-06</td>\n",
       "      <td>798.39</td>\n",
       "      <td>810.89</td>\n",
       "      <td>...</td>\n",
       "      <td>160.35</td>\n",
       "      <td>2994056</td>\n",
       "      <td>NaN</td>\n",
       "      <td>2016-09-06</td>\n",
       "      <td>57.78</td>\n",
       "      <td>57.80</td>\n",
       "      <td>57.21</td>\n",
       "      <td>57.61</td>\n",
       "      <td>16278416</td>\n",
       "      <td>NaN</td>\n",
       "    </tr>\n",
       "    <tr>\n",
       "      <th>3</th>\n",
       "      <td>2016-09-07</td>\n",
       "      <td>107.83</td>\n",
       "      <td>108.76</td>\n",
       "      <td>107.07</td>\n",
       "      <td>108.36</td>\n",
       "      <td>42364328</td>\n",
       "      <td>NaN</td>\n",
       "      <td>2016-09-07</td>\n",
       "      <td>807.93</td>\n",
       "      <td>810.60</td>\n",
       "      <td>...</td>\n",
       "      <td>161.64</td>\n",
       "      <td>2867257</td>\n",
       "      <td>NaN</td>\n",
       "      <td>2016-09-07</td>\n",
       "      <td>57.47</td>\n",
       "      <td>57.84</td>\n",
       "      <td>57.40</td>\n",
       "      <td>57.66</td>\n",
       "      <td>17493359</td>\n",
       "      <td>NaN</td>\n",
       "    </tr>\n",
       "    <tr>\n",
       "      <th>4</th>\n",
       "      <td>2016-09-08</td>\n",
       "      <td>107.25</td>\n",
       "      <td>107.27</td>\n",
       "      <td>105.24</td>\n",
       "      <td>105.52</td>\n",
       "      <td>53002026</td>\n",
       "      <td>35056625.2</td>\n",
       "      <td>2016-09-08</td>\n",
       "      <td>805.22</td>\n",
       "      <td>808.42</td>\n",
       "      <td>...</td>\n",
       "      <td>159.00</td>\n",
       "      <td>3963164</td>\n",
       "      <td>2899645.6</td>\n",
       "      <td>2016-09-08</td>\n",
       "      <td>57.63</td>\n",
       "      <td>57.79</td>\n",
       "      <td>57.18</td>\n",
       "      <td>57.43</td>\n",
       "      <td>20146083</td>\n",
       "      <td>19778742.0</td>\n",
       "    </tr>\n",
       "  </tbody>\n",
       "</table>\n",
       "<p>5 rows × 28 columns</p>\n",
       "</div>"
      ],
      "text/plain": [
       "         APPL                                                        \\\n",
       "         Date    Open    High     Low   Close    Volume     mvg_Avg   \n",
       "0  2016-09-01  106.14  106.80  105.62  106.73  26701523         NaN   \n",
       "1  2016-09-02  107.70  108.00  106.82  107.73  26334858         NaN   \n",
       "2  2016-09-06  107.90  108.30  107.51  107.70  26880391         NaN   \n",
       "3  2016-09-07  107.83  108.76  107.07  108.36  42364328         NaN   \n",
       "4  2016-09-08  107.25  107.27  105.24  105.52  53002026  35056625.2   \n",
       "\n",
       "        GOOGL                  ...     IBM                            MRFT  \\\n",
       "         Date    Open    High  ...   Close   Volume    mvg_avg        Date   \n",
       "0  2016-09-01  791.98  792.89  ...  159.54  2358385        NaN  2016-09-01   \n",
       "1  2016-09-02  795.27  797.10  ...  159.55  2315366        NaN  2016-09-02   \n",
       "2  2016-09-06  798.39  810.89  ...  160.35  2994056        NaN  2016-09-06   \n",
       "3  2016-09-07  807.93  810.60  ...  161.64  2867257        NaN  2016-09-07   \n",
       "4  2016-09-08  805.22  808.42  ...  159.00  3963164  2899645.6  2016-09-08   \n",
       "\n",
       "                                                     \n",
       "    Open   High    Low  Close    Volume    mvg_data  \n",
       "0  57.01  57.82  57.01  57.59  26075363         NaN  \n",
       "1  57.67  58.19  57.42  57.67  18900489         NaN  \n",
       "2  57.78  57.80  57.21  57.61  16278416         NaN  \n",
       "3  57.47  57.84  57.40  57.66  17493359         NaN  \n",
       "4  57.63  57.79  57.18  57.43  20146083  19778742.0  \n",
       "\n",
       "[5 rows x 28 columns]"
      ]
     },
     "execution_count": 68,
     "metadata": {},
     "output_type": "execute_result"
    }
   ],
   "source": [
    "tech_stocks = pd.concat([apple_data,google_data,ibm_data,microsoft_data],axis=1,keys=tikcer)\n",
    "tech_stocks.head()"
   ]
  },
  {
   "cell_type": "code",
   "execution_count": 69,
   "metadata": {},
   "outputs": [
    {
     "data": {
      "text/html": [
       "<div>\n",
       "<style scoped>\n",
       "    .dataframe tbody tr th:only-of-type {\n",
       "        vertical-align: middle;\n",
       "    }\n",
       "\n",
       "    .dataframe tbody tr th {\n",
       "        vertical-align: top;\n",
       "    }\n",
       "\n",
       "    .dataframe thead th {\n",
       "        text-align: right;\n",
       "    }\n",
       "</style>\n",
       "<table border=\"1\" class=\"dataframe\">\n",
       "  <thead>\n",
       "    <tr style=\"text-align: right;\">\n",
       "      <th></th>\n",
       "      <th>APPL</th>\n",
       "      <th>GOOGL</th>\n",
       "      <th>IBM</th>\n",
       "      <th>MRFT</th>\n",
       "    </tr>\n",
       "  </thead>\n",
       "  <tbody>\n",
       "    <tr>\n",
       "      <th>0</th>\n",
       "      <td>106.73</td>\n",
       "      <td>791.40</td>\n",
       "      <td>159.54</td>\n",
       "      <td>57.59</td>\n",
       "    </tr>\n",
       "    <tr>\n",
       "      <th>1</th>\n",
       "      <td>107.73</td>\n",
       "      <td>796.87</td>\n",
       "      <td>159.55</td>\n",
       "      <td>57.67</td>\n",
       "    </tr>\n",
       "    <tr>\n",
       "      <th>2</th>\n",
       "      <td>107.70</td>\n",
       "      <td>808.02</td>\n",
       "      <td>160.35</td>\n",
       "      <td>57.61</td>\n",
       "    </tr>\n",
       "    <tr>\n",
       "      <th>3</th>\n",
       "      <td>108.36</td>\n",
       "      <td>807.99</td>\n",
       "      <td>161.64</td>\n",
       "      <td>57.66</td>\n",
       "    </tr>\n",
       "    <tr>\n",
       "      <th>4</th>\n",
       "      <td>105.52</td>\n",
       "      <td>802.84</td>\n",
       "      <td>159.00</td>\n",
       "      <td>57.43</td>\n",
       "    </tr>\n",
       "  </tbody>\n",
       "</table>\n",
       "</div>"
      ],
      "text/plain": [
       "     APPL   GOOGL     IBM   MRFT\n",
       "0  106.73  791.40  159.54  57.59\n",
       "1  107.73  796.87  159.55  57.67\n",
       "2  107.70  808.02  160.35  57.61\n",
       "3  108.36  807.99  161.64  57.66\n",
       "4  105.52  802.84  159.00  57.43"
      ]
     },
     "execution_count": 69,
     "metadata": {},
     "output_type": "execute_result"
    }
   ],
   "source": [
    "## look for column 'close' for each stocks \n",
    "stocks = pd.DataFrame({'APPL':apple_data.Close,\n",
    "                       'GOOGL':google_data.Close,\n",
    "                       'IBM':ibm_data.Close,\n",
    "                       'MRFT':microsoft_data.Close\n",
    "                      })\n",
    "stocks.head()"
   ]
  },
  {
   "cell_type": "code",
   "execution_count": 70,
   "metadata": {},
   "outputs": [
    {
     "data": {
      "text/plain": [
       "<matplotlib.axes._subplots.AxesSubplot at 0x18c749f2c18>"
      ]
     },
     "execution_count": 70,
     "metadata": {},
     "output_type": "execute_result"
    },
    {
     "data": {
      "image/png": "[encoded data removed]",
      "text/plain": [
       "<Figure size 432x288 with 1 Axes>"
      ]
     },
     "metadata": {
      "needs_background": "light"
     },
     "output_type": "display_data"
    }
   ],
   "source": [
    "stocks.plot(grid=True)"
   ]
  },
  {
   "cell_type": "code",
   "execution_count": 71,
   "metadata": {},
   "outputs": [
    {
     "data": {
      "text/plain": [
       "<matplotlib.axes._subplots.AxesSubplot at 0x18c7461d048>"
      ]
     },
     "execution_count": 71,
     "metadata": {},
     "output_type": "execute_result"
    },
    {
     "data": {
      "image/png": "[encoded data removed]",
      "text/plain": [
       "<Figure size 432x288 with 2 Axes>"
      ]
     },
     "metadata": {
      "needs_background": "light"
     },
     "output_type": "display_data"
    }
   ],
   "source": [
    "stocks.plot(secondary_y=['APPL','IBM','MRFT'],grid=True)"
   ]
  },
  {
   "cell_type": "markdown",
   "metadata": {},
   "source": [
    "## earlier plot shows 'APPL','IBM','MRFT' are performing in same manner, but when used y-axis then it shows IBM has much fluctuation\n",
    "## also MRFT is most stable and apple is doing good as well"
   ]
  },
  {
   "cell_type": "code",
   "execution_count": 72,
   "metadata": {},
   "outputs": [
    {
     "data": {
      "text/html": [
       "<div>\n",
       "<style scoped>\n",
       "    .dataframe tbody tr th:only-of-type {\n",
       "        vertical-align: middle;\n",
       "    }\n",
       "\n",
       "    .dataframe tbody tr th {\n",
       "        vertical-align: top;\n",
       "    }\n",
       "\n",
       "    .dataframe thead th {\n",
       "        text-align: right;\n",
       "    }\n",
       "</style>\n",
       "<table border=\"1\" class=\"dataframe\">\n",
       "  <thead>\n",
       "    <tr style=\"text-align: right;\">\n",
       "      <th></th>\n",
       "      <th>APPL</th>\n",
       "      <th>GOOGL</th>\n",
       "      <th>IBM</th>\n",
       "      <th>MRFT</th>\n",
       "    </tr>\n",
       "  </thead>\n",
       "  <tbody>\n",
       "    <tr>\n",
       "      <th>0</th>\n",
       "      <td>1.000000</td>\n",
       "      <td>1.000000</td>\n",
       "      <td>1.000000</td>\n",
       "      <td>1.000000</td>\n",
       "    </tr>\n",
       "    <tr>\n",
       "      <th>1</th>\n",
       "      <td>1.009369</td>\n",
       "      <td>1.006912</td>\n",
       "      <td>1.000063</td>\n",
       "      <td>1.001389</td>\n",
       "    </tr>\n",
       "    <tr>\n",
       "      <th>2</th>\n",
       "      <td>1.009088</td>\n",
       "      <td>1.021001</td>\n",
       "      <td>1.005077</td>\n",
       "      <td>1.000347</td>\n",
       "    </tr>\n",
       "    <tr>\n",
       "      <th>3</th>\n",
       "      <td>1.015272</td>\n",
       "      <td>1.020963</td>\n",
       "      <td>1.013163</td>\n",
       "      <td>1.001215</td>\n",
       "    </tr>\n",
       "    <tr>\n",
       "      <th>4</th>\n",
       "      <td>0.988663</td>\n",
       "      <td>1.014455</td>\n",
       "      <td>0.996615</td>\n",
       "      <td>0.997222</td>\n",
       "    </tr>\n",
       "    <tr>\n",
       "      <th>5</th>\n",
       "      <td>0.966270</td>\n",
       "      <td>0.996310</td>\n",
       "      <td>0.975868</td>\n",
       "      <td>0.976038</td>\n",
       "    </tr>\n",
       "    <tr>\n",
       "      <th>6</th>\n",
       "      <td>0.987913</td>\n",
       "      <td>1.009376</td>\n",
       "      <td>0.992165</td>\n",
       "      <td>0.990623</td>\n",
       "    </tr>\n",
       "    <tr>\n",
       "      <th>7</th>\n",
       "      <td>1.011431</td>\n",
       "      <td>0.996614</td>\n",
       "      <td>0.976620</td>\n",
       "      <td>0.981594</td>\n",
       "    </tr>\n",
       "    <tr>\n",
       "      <th>8</th>\n",
       "      <td>1.047222</td>\n",
       "      <td>0.998812</td>\n",
       "      <td>0.965589</td>\n",
       "      <td>0.976906</td>\n",
       "    </tr>\n",
       "    <tr>\n",
       "      <th>9</th>\n",
       "      <td>1.082826</td>\n",
       "      <td>1.012421</td>\n",
       "      <td>0.975680</td>\n",
       "      <td>0.993054</td>\n",
       "    </tr>\n",
       "  </tbody>\n",
       "</table>\n",
       "</div>"
      ],
      "text/plain": [
       "       APPL     GOOGL       IBM      MRFT\n",
       "0  1.000000  1.000000  1.000000  1.000000\n",
       "1  1.009369  1.006912  1.000063  1.001389\n",
       "2  1.009088  1.021001  1.005077  1.000347\n",
       "3  1.015272  1.020963  1.013163  1.001215\n",
       "4  0.988663  1.014455  0.996615  0.997222\n",
       "5  0.966270  0.996310  0.975868  0.976038\n",
       "6  0.987913  1.009376  0.992165  0.990623\n",
       "7  1.011431  0.996614  0.976620  0.981594\n",
       "8  1.047222  0.998812  0.965589  0.976906\n",
       "9  1.082826  1.012421  0.975680  0.993054"
      ]
     },
     "execution_count": 72,
     "metadata": {},
     "output_type": "execute_result"
    }
   ],
   "source": [
    "## now instead of absoulte price, lets compare w.r.t to base-price (day-1 price)\n",
    "stock_return = stocks.apply(lambda x: x / x[0]) # deviding by its base price for month\n",
    "stock_return.head(10)"
   ]
  },
  {
   "cell_type": "code",
   "execution_count": 73,
   "metadata": {},
   "outputs": [
    {
     "data": {
      "text/plain": [
       "<matplotlib.axes._subplots.AxesSubplot at 0x18c748da390>"
      ]
     },
     "execution_count": 73,
     "metadata": {},
     "output_type": "execute_result"
    },
    {
     "data": {
      "image/png": "[encoded data removed]",
      "text/plain": [
       "<Figure size 432x288 with 1 Axes>"
      ]
     },
     "metadata": {
      "needs_background": "light"
     },
     "output_type": "display_data"
    }
   ],
   "source": [
    "# stock_return.plot(grid=True).axhline(y = 1, color = \"black\", lw = 2)\n",
    "stock_return.plot(grid=True)"
   ]
  },
  {
   "cell_type": "markdown",
   "metadata": {},
   "source": [
    "### it shows IBM is performing worst while apple works extremly best in last few days "
   ]
  },
  {
   "cell_type": "code",
   "execution_count": 74,
   "metadata": {},
   "outputs": [
    {
     "data": {
      "text/html": [
       "<div>\n",
       "<style scoped>\n",
       "    .dataframe tbody tr th:only-of-type {\n",
       "        vertical-align: middle;\n",
       "    }\n",
       "\n",
       "    .dataframe tbody tr th {\n",
       "        vertical-align: top;\n",
       "    }\n",
       "\n",
       "    .dataframe thead tr th {\n",
       "        text-align: left;\n",
       "    }\n",
       "</style>\n",
       "<table border=\"1\" class=\"dataframe\">\n",
       "  <thead>\n",
       "    <tr>\n",
       "      <th></th>\n",
       "      <th colspan=\"7\" halign=\"left\">APPL</th>\n",
       "      <th colspan=\"3\" halign=\"left\">GOOGL</th>\n",
       "      <th>...</th>\n",
       "      <th colspan=\"3\" halign=\"left\">IBM</th>\n",
       "      <th colspan=\"7\" halign=\"left\">MRFT</th>\n",
       "    </tr>\n",
       "    <tr>\n",
       "      <th></th>\n",
       "      <th>Date</th>\n",
       "      <th>Open</th>\n",
       "      <th>High</th>\n",
       "      <th>Low</th>\n",
       "      <th>Close</th>\n",
       "      <th>Volume</th>\n",
       "      <th>mvg_Avg</th>\n",
       "      <th>Date</th>\n",
       "      <th>Open</th>\n",
       "      <th>High</th>\n",
       "      <th>...</th>\n",
       "      <th>Close</th>\n",
       "      <th>Volume</th>\n",
       "      <th>mvg_avg</th>\n",
       "      <th>Date</th>\n",
       "      <th>Open</th>\n",
       "      <th>High</th>\n",
       "      <th>Low</th>\n",
       "      <th>Close</th>\n",
       "      <th>Volume</th>\n",
       "      <th>mvg_data</th>\n",
       "    </tr>\n",
       "  </thead>\n",
       "  <tbody>\n",
       "    <tr>\n",
       "      <th>0</th>\n",
       "      <td>2016-09-01</td>\n",
       "      <td>106.14</td>\n",
       "      <td>106.80</td>\n",
       "      <td>105.62</td>\n",
       "      <td>106.73</td>\n",
       "      <td>26701523</td>\n",
       "      <td>NaN</td>\n",
       "      <td>2016-09-01</td>\n",
       "      <td>791.98</td>\n",
       "      <td>792.89</td>\n",
       "      <td>...</td>\n",
       "      <td>159.54</td>\n",
       "      <td>2358385</td>\n",
       "      <td>NaN</td>\n",
       "      <td>2016-09-01</td>\n",
       "      <td>57.01</td>\n",
       "      <td>57.82</td>\n",
       "      <td>57.01</td>\n",
       "      <td>57.59</td>\n",
       "      <td>26075363</td>\n",
       "      <td>NaN</td>\n",
       "    </tr>\n",
       "    <tr>\n",
       "      <th>1</th>\n",
       "      <td>2016-09-02</td>\n",
       "      <td>107.70</td>\n",
       "      <td>108.00</td>\n",
       "      <td>106.82</td>\n",
       "      <td>107.73</td>\n",
       "      <td>26334858</td>\n",
       "      <td>NaN</td>\n",
       "      <td>2016-09-02</td>\n",
       "      <td>795.27</td>\n",
       "      <td>797.10</td>\n",
       "      <td>...</td>\n",
       "      <td>159.55</td>\n",
       "      <td>2315366</td>\n",
       "      <td>NaN</td>\n",
       "      <td>2016-09-02</td>\n",
       "      <td>57.67</td>\n",
       "      <td>58.19</td>\n",
       "      <td>57.42</td>\n",
       "      <td>57.67</td>\n",
       "      <td>18900489</td>\n",
       "      <td>NaN</td>\n",
       "    </tr>\n",
       "    <tr>\n",
       "      <th>2</th>\n",
       "      <td>2016-09-06</td>\n",
       "      <td>107.90</td>\n",
       "      <td>108.30</td>\n",
       "      <td>107.51</td>\n",
       "      <td>107.70</td>\n",
       "      <td>26880391</td>\n",
       "      <td>NaN</td>\n",
       "      <td>2016-09-06</td>\n",
       "      <td>798.39</td>\n",
       "      <td>810.89</td>\n",
       "      <td>...</td>\n",
       "      <td>160.35</td>\n",
       "      <td>2994056</td>\n",
       "      <td>NaN</td>\n",
       "      <td>2016-09-06</td>\n",
       "      <td>57.78</td>\n",
       "      <td>57.80</td>\n",
       "      <td>57.21</td>\n",
       "      <td>57.61</td>\n",
       "      <td>16278416</td>\n",
       "      <td>NaN</td>\n",
       "    </tr>\n",
       "    <tr>\n",
       "      <th>3</th>\n",
       "      <td>2016-09-07</td>\n",
       "      <td>107.83</td>\n",
       "      <td>108.76</td>\n",
       "      <td>107.07</td>\n",
       "      <td>108.36</td>\n",
       "      <td>42364328</td>\n",
       "      <td>NaN</td>\n",
       "      <td>2016-09-07</td>\n",
       "      <td>807.93</td>\n",
       "      <td>810.60</td>\n",
       "      <td>...</td>\n",
       "      <td>161.64</td>\n",
       "      <td>2867257</td>\n",
       "      <td>NaN</td>\n",
       "      <td>2016-09-07</td>\n",
       "      <td>57.47</td>\n",
       "      <td>57.84</td>\n",
       "      <td>57.40</td>\n",
       "      <td>57.66</td>\n",
       "      <td>17493359</td>\n",
       "      <td>NaN</td>\n",
       "    </tr>\n",
       "    <tr>\n",
       "      <th>4</th>\n",
       "      <td>2016-09-08</td>\n",
       "      <td>107.25</td>\n",
       "      <td>107.27</td>\n",
       "      <td>105.24</td>\n",
       "      <td>105.52</td>\n",
       "      <td>53002026</td>\n",
       "      <td>35056625.2</td>\n",
       "      <td>2016-09-08</td>\n",
       "      <td>805.22</td>\n",
       "      <td>808.42</td>\n",
       "      <td>...</td>\n",
       "      <td>159.00</td>\n",
       "      <td>3963164</td>\n",
       "      <td>2899645.6</td>\n",
       "      <td>2016-09-08</td>\n",
       "      <td>57.63</td>\n",
       "      <td>57.79</td>\n",
       "      <td>57.18</td>\n",
       "      <td>57.43</td>\n",
       "      <td>20146083</td>\n",
       "      <td>19778742.0</td>\n",
       "    </tr>\n",
       "  </tbody>\n",
       "</table>\n",
       "<p>5 rows × 28 columns</p>\n",
       "</div>"
      ],
      "text/plain": [
       "         APPL                                                        \\\n",
       "         Date    Open    High     Low   Close    Volume     mvg_Avg   \n",
       "0  2016-09-01  106.14  106.80  105.62  106.73  26701523         NaN   \n",
       "1  2016-09-02  107.70  108.00  106.82  107.73  26334858         NaN   \n",
       "2  2016-09-06  107.90  108.30  107.51  107.70  26880391         NaN   \n",
       "3  2016-09-07  107.83  108.76  107.07  108.36  42364328         NaN   \n",
       "4  2016-09-08  107.25  107.27  105.24  105.52  53002026  35056625.2   \n",
       "\n",
       "        GOOGL                  ...     IBM                            MRFT  \\\n",
       "         Date    Open    High  ...   Close   Volume    mvg_avg        Date   \n",
       "0  2016-09-01  791.98  792.89  ...  159.54  2358385        NaN  2016-09-01   \n",
       "1  2016-09-02  795.27  797.10  ...  159.55  2315366        NaN  2016-09-02   \n",
       "2  2016-09-06  798.39  810.89  ...  160.35  2994056        NaN  2016-09-06   \n",
       "3  2016-09-07  807.93  810.60  ...  161.64  2867257        NaN  2016-09-07   \n",
       "4  2016-09-08  805.22  808.42  ...  159.00  3963164  2899645.6  2016-09-08   \n",
       "\n",
       "                                                     \n",
       "    Open   High    Low  Close    Volume    mvg_data  \n",
       "0  57.01  57.82  57.01  57.59  26075363         NaN  \n",
       "1  57.67  58.19  57.42  57.67  18900489         NaN  \n",
       "2  57.78  57.80  57.21  57.61  16278416         NaN  \n",
       "3  57.47  57.84  57.40  57.66  17493359         NaN  \n",
       "4  57.63  57.79  57.18  57.43  20146083  19778742.0  \n",
       "\n",
       "[5 rows x 28 columns]"
      ]
     },
     "execution_count": 74,
     "metadata": {},
     "output_type": "execute_result"
    }
   ],
   "source": [
    "tech_stocks.head()"
   ]
  },
  {
   "cell_type": "code",
   "execution_count": 75,
   "metadata": {},
   "outputs": [
    {
     "data": {
      "text/html": [
       "<div>\n",
       "<style scoped>\n",
       "    .dataframe tbody tr th:only-of-type {\n",
       "        vertical-align: middle;\n",
       "    }\n",
       "\n",
       "    .dataframe tbody tr th {\n",
       "        vertical-align: top;\n",
       "    }\n",
       "\n",
       "    .dataframe thead tr th {\n",
       "        text-align: left;\n",
       "    }\n",
       "</style>\n",
       "<table border=\"1\" class=\"dataframe\">\n",
       "  <thead>\n",
       "    <tr>\n",
       "      <th></th>\n",
       "      <th>APPL</th>\n",
       "      <th>GOOGL</th>\n",
       "      <th>IBM</th>\n",
       "      <th>MRFT</th>\n",
       "    </tr>\n",
       "    <tr>\n",
       "      <th></th>\n",
       "      <th>Close</th>\n",
       "      <th>Close</th>\n",
       "      <th>Close</th>\n",
       "      <th>Close</th>\n",
       "    </tr>\n",
       "  </thead>\n",
       "  <tbody>\n",
       "    <tr>\n",
       "      <th>0</th>\n",
       "      <td>106.73</td>\n",
       "      <td>791.40</td>\n",
       "      <td>159.54</td>\n",
       "      <td>57.59</td>\n",
       "    </tr>\n",
       "    <tr>\n",
       "      <th>1</th>\n",
       "      <td>107.73</td>\n",
       "      <td>796.87</td>\n",
       "      <td>159.55</td>\n",
       "      <td>57.67</td>\n",
       "    </tr>\n",
       "    <tr>\n",
       "      <th>2</th>\n",
       "      <td>107.70</td>\n",
       "      <td>808.02</td>\n",
       "      <td>160.35</td>\n",
       "      <td>57.61</td>\n",
       "    </tr>\n",
       "    <tr>\n",
       "      <th>3</th>\n",
       "      <td>108.36</td>\n",
       "      <td>807.99</td>\n",
       "      <td>161.64</td>\n",
       "      <td>57.66</td>\n",
       "    </tr>\n",
       "    <tr>\n",
       "      <th>4</th>\n",
       "      <td>105.52</td>\n",
       "      <td>802.84</td>\n",
       "      <td>159.00</td>\n",
       "      <td>57.43</td>\n",
       "    </tr>\n",
       "  </tbody>\n",
       "</table>\n",
       "</div>"
      ],
      "text/plain": [
       "     APPL   GOOGL     IBM   MRFT\n",
       "    Close   Close   Close  Close\n",
       "0  106.73  791.40  159.54  57.59\n",
       "1  107.73  796.87  159.55  57.67\n",
       "2  107.70  808.02  160.35  57.61\n",
       "3  108.36  807.99  161.64  57.66\n",
       "4  105.52  802.84  159.00  57.43"
      ]
     },
     "execution_count": 75,
     "metadata": {},
     "output_type": "execute_result"
    }
   ],
   "source": [
    "## looking for max price for each stock on closing price \n",
    "tech_stocks.loc[:,pd.IndexSlice[:,'Close']].head() ## index inside-index .. fetching only close for all"
   ]
  },
  {
   "cell_type": "code",
   "execution_count": 76,
   "metadata": {},
   "outputs": [
    {
     "data": {
      "text/plain": [
       "APPL   Close    156.10\n",
       "GOOGL  Close    996.17\n",
       "IBM    Close    181.95\n",
       "MRFT   Close     70.41\n",
       "dtype: float64"
      ]
     },
     "execution_count": 76,
     "metadata": {},
     "output_type": "execute_result"
    }
   ],
   "source": [
    "tech_stocks.loc[:,pd.IndexSlice[:,'Close']].max()"
   ]
  },
  {
   "cell_type": "code",
   "execution_count": 77,
   "metadata": {},
   "outputs": [
    {
     "data": {
      "text/plain": [
       "APPL   Close    103.13\n",
       "GOOGL  Close    753.22\n",
       "IBM    Close    149.63\n",
       "MRFT   Close     56.21\n",
       "dtype: float64"
      ]
     },
     "execution_count": 77,
     "metadata": {},
     "output_type": "execute_result"
    }
   ],
   "source": [
    "tech_stocks.loc[:,pd.IndexSlice[:,'Close']].min()"
   ]
  },
  {
   "cell_type": "code",
   "execution_count": 78,
   "metadata": {},
   "outputs": [
    {
     "data": {
      "text/plain": [
       "APPL     156.10\n",
       "GOOGL    996.17\n",
       "IBM      181.95\n",
       "MRFT      70.41\n",
       "dtype: float64"
      ]
     },
     "execution_count": 78,
     "metadata": {},
     "output_type": "execute_result"
    }
   ],
   "source": [
    "stocks.max()"
   ]
  },
  {
   "cell_type": "markdown",
   "metadata": {},
   "source": [
    "## calculating returns for each stocks.\n",
    "### todays_price-y_price/yday_price"
   ]
  },
  {
   "cell_type": "code",
   "execution_count": 79,
   "metadata": {},
   "outputs": [
    {
     "data": {
      "text/html": [
       "<div>\n",
       "<style scoped>\n",
       "    .dataframe tbody tr th:only-of-type {\n",
       "        vertical-align: middle;\n",
       "    }\n",
       "\n",
       "    .dataframe tbody tr th {\n",
       "        vertical-align: top;\n",
       "    }\n",
       "\n",
       "    .dataframe thead tr th {\n",
       "        text-align: left;\n",
       "    }\n",
       "</style>\n",
       "<table border=\"1\" class=\"dataframe\">\n",
       "  <thead>\n",
       "    <tr>\n",
       "      <th></th>\n",
       "      <th>APPL</th>\n",
       "      <th>GOOGL</th>\n",
       "      <th>IBM</th>\n",
       "      <th>MRFT</th>\n",
       "    </tr>\n",
       "    <tr>\n",
       "      <th></th>\n",
       "      <th>Close</th>\n",
       "      <th>Close</th>\n",
       "      <th>Close</th>\n",
       "      <th>Close</th>\n",
       "    </tr>\n",
       "  </thead>\n",
       "  <tbody>\n",
       "    <tr>\n",
       "      <th>0</th>\n",
       "      <td>NaN</td>\n",
       "      <td>NaN</td>\n",
       "      <td>NaN</td>\n",
       "      <td>NaN</td>\n",
       "    </tr>\n",
       "    <tr>\n",
       "      <th>1</th>\n",
       "      <td>0.009369</td>\n",
       "      <td>0.006912</td>\n",
       "      <td>0.000063</td>\n",
       "      <td>0.001389</td>\n",
       "    </tr>\n",
       "    <tr>\n",
       "      <th>2</th>\n",
       "      <td>-0.000278</td>\n",
       "      <td>0.013992</td>\n",
       "      <td>0.005014</td>\n",
       "      <td>-0.001040</td>\n",
       "    </tr>\n",
       "    <tr>\n",
       "      <th>3</th>\n",
       "      <td>0.006128</td>\n",
       "      <td>-0.000037</td>\n",
       "      <td>0.008045</td>\n",
       "      <td>0.000868</td>\n",
       "    </tr>\n",
       "    <tr>\n",
       "      <th>4</th>\n",
       "      <td>-0.026209</td>\n",
       "      <td>-0.006374</td>\n",
       "      <td>-0.016333</td>\n",
       "      <td>-0.003989</td>\n",
       "    </tr>\n",
       "  </tbody>\n",
       "</table>\n",
       "</div>"
      ],
      "text/plain": [
       "       APPL     GOOGL       IBM      MRFT\n",
       "      Close     Close     Close     Close\n",
       "0       NaN       NaN       NaN       NaN\n",
       "1  0.009369  0.006912  0.000063  0.001389\n",
       "2 -0.000278  0.013992  0.005014 -0.001040\n",
       "3  0.006128 -0.000037  0.008045  0.000868\n",
       "4 -0.026209 -0.006374 -0.016333 -0.003989"
      ]
     },
     "execution_count": 79,
     "metadata": {},
     "output_type": "execute_result"
    }
   ],
   "source": [
    "tech_stocks.loc[:,pd.IndexSlice[:,'Close']].pct_change().head()"
   ]
  },
  {
   "cell_type": "markdown",
   "metadata": {},
   "source": [
    "#### checking for method xs() with dataframe.. its imilar to loc\n",
    "#### its very helpful in multi-index columns to fetch data "
   ]
  },
  {
   "cell_type": "code",
   "execution_count": 87,
   "metadata": {},
   "outputs": [
    {
     "data": {
      "text/plain": [
       "0    106.73\n",
       "1    107.73\n",
       "2    107.70\n",
       "3    108.36\n",
       "4    105.52\n",
       "Name: (APPL, Close), dtype: float64"
      ]
     },
     "execution_count": 87,
     "metadata": {},
     "output_type": "execute_result"
    }
   ],
   "source": [
    "tech_stocks.xs(('APPL', 'Close'), axis=1).head() ## will pick value column-wise and then pick 'apple'  then pick 'Close'"
   ]
  },
  {
   "cell_type": "markdown",
   "metadata": {},
   "source": [
    "### stocks_return"
   ]
  },
  {
   "cell_type": "code",
   "execution_count": 89,
   "metadata": {},
   "outputs": [
    {
     "data": {
      "text/html": [
       "<div>\n",
       "<style scoped>\n",
       "    .dataframe tbody tr th:only-of-type {\n",
       "        vertical-align: middle;\n",
       "    }\n",
       "\n",
       "    .dataframe tbody tr th {\n",
       "        vertical-align: top;\n",
       "    }\n",
       "\n",
       "    .dataframe thead th {\n",
       "        text-align: right;\n",
       "    }\n",
       "</style>\n",
       "<table border=\"1\" class=\"dataframe\">\n",
       "  <thead>\n",
       "    <tr style=\"text-align: right;\">\n",
       "      <th></th>\n",
       "      <th>APPLreturn</th>\n",
       "      <th>GOOGLreturn</th>\n",
       "      <th>IBMreturn</th>\n",
       "      <th>MRFTreturn</th>\n",
       "    </tr>\n",
       "  </thead>\n",
       "  <tbody>\n",
       "    <tr>\n",
       "      <th>0</th>\n",
       "      <td>NaN</td>\n",
       "      <td>NaN</td>\n",
       "      <td>NaN</td>\n",
       "      <td>NaN</td>\n",
       "    </tr>\n",
       "    <tr>\n",
       "      <th>1</th>\n",
       "      <td>0.009369</td>\n",
       "      <td>0.006912</td>\n",
       "      <td>0.000063</td>\n",
       "      <td>0.001389</td>\n",
       "    </tr>\n",
       "    <tr>\n",
       "      <th>2</th>\n",
       "      <td>-0.000278</td>\n",
       "      <td>0.013992</td>\n",
       "      <td>0.005014</td>\n",
       "      <td>-0.001040</td>\n",
       "    </tr>\n",
       "    <tr>\n",
       "      <th>3</th>\n",
       "      <td>0.006128</td>\n",
       "      <td>-0.000037</td>\n",
       "      <td>0.008045</td>\n",
       "      <td>0.000868</td>\n",
       "    </tr>\n",
       "    <tr>\n",
       "      <th>4</th>\n",
       "      <td>-0.026209</td>\n",
       "      <td>-0.006374</td>\n",
       "      <td>-0.016333</td>\n",
       "      <td>-0.003989</td>\n",
       "    </tr>\n",
       "  </tbody>\n",
       "</table>\n",
       "</div>"
      ],
      "text/plain": [
       "   APPLreturn  GOOGLreturn  IBMreturn  MRFTreturn\n",
       "0         NaN          NaN        NaN         NaN\n",
       "1    0.009369     0.006912   0.000063    0.001389\n",
       "2   -0.000278     0.013992   0.005014   -0.001040\n",
       "3    0.006128    -0.000037   0.008045    0.000868\n",
       "4   -0.026209    -0.006374  -0.016333   -0.003989"
      ]
     },
     "execution_count": 89,
     "metadata": {},
     "output_type": "execute_result"
    }
   ],
   "source": [
    "# stocks_return\n",
    "stock_return =pd.DataFrame()\n",
    "for i in tikcer:\n",
    "    stock_return[i+'return']= tech_stocks.xs((i, 'Close'), axis=1).pct_change()\n",
    "\n",
    "stock_return.head()"
   ]
  },
  {
   "cell_type": "markdown",
   "metadata": {},
   "source": [
    "### lets look for any co-relation between these stocks "
   ]
  },
  {
   "cell_type": "code",
   "execution_count": 91,
   "metadata": {},
   "outputs": [],
   "source": [
    "import seaborn as sns"
   ]
  },
  {
   "cell_type": "code",
   "execution_count": 93,
   "metadata": {},
   "outputs": [
    {
     "data": {
      "image/png": "[encoded data removed]",
      "text/plain": [
       "<Figure size 720x720 with 20 Axes>"
      ]
     },
     "metadata": {
      "needs_background": "light"
     },
     "output_type": "display_data"
    }
   ],
   "source": [
    "sns.pairplot(stock_return)\n",
    "plt.show()"
   ]
  },
  {
   "cell_type": "markdown",
   "metadata": {},
   "source": [
    "### with above seems IBM is not that much related with other stocks\n",
    "### while other stocks are having much corelation with each other"
   ]
  },
  {
   "cell_type": "markdown",
   "metadata": {},
   "source": [
    "### checking on which day each stocks performed best/worst\n",
    "#### below shows Row number -> means day"
   ]
  },
  {
   "cell_type": "code",
   "execution_count": 94,
   "metadata": {},
   "outputs": [
    {
     "data": {
      "text/plain": [
       "APPLreturn     104\n",
       "GOOGLreturn    164\n",
       "IBMreturn       49\n",
       "MRFTreturn      35\n",
       "dtype: int64"
      ]
     },
     "execution_count": 94,
     "metadata": {},
     "output_type": "execute_result"
    }
   ],
   "source": [
    "stock_return.idxmax()"
   ]
  },
  {
   "cell_type": "code",
   "execution_count": 95,
   "metadata": {},
   "outputs": [
    {
     "data": {
      "text/plain": [
       "APPLreturn     177\n",
       "GOOGLreturn     49\n",
       "IBMreturn      157\n",
       "MRFTreturn     177\n",
       "dtype: int64"
      ]
     },
     "execution_count": 95,
     "metadata": {},
     "output_type": "execute_result"
    }
   ],
   "source": [
    "stock_return.idxmin()"
   ]
  },
  {
   "cell_type": "code",
   "execution_count": 96,
   "metadata": {},
   "outputs": [
    {
     "data": {
      "text/plain": [
       "APPLreturn     0.010756\n",
       "GOOGLreturn    0.009673\n",
       "IBMreturn      0.009593\n",
       "MRFTreturn     0.009170\n",
       "dtype: float64"
      ]
     },
     "execution_count": 96,
     "metadata": {},
     "output_type": "execute_result"
    }
   ],
   "source": [
    "stock_return.std()"
   ]
  },
  {
   "cell_type": "code",
   "execution_count": 99,
   "metadata": {},
   "outputs": [
    {
     "data": {
      "text/html": [
       "<div>\n",
       "<style scoped>\n",
       "    .dataframe tbody tr th:only-of-type {\n",
       "        vertical-align: middle;\n",
       "    }\n",
       "\n",
       "    .dataframe tbody tr th {\n",
       "        vertical-align: top;\n",
       "    }\n",
       "\n",
       "    .dataframe thead tr th {\n",
       "        text-align: left;\n",
       "    }\n",
       "</style>\n",
       "<table border=\"1\" class=\"dataframe\">\n",
       "  <thead>\n",
       "    <tr>\n",
       "      <th></th>\n",
       "      <th colspan=\"7\" halign=\"left\">APPL</th>\n",
       "      <th colspan=\"3\" halign=\"left\">GOOGL</th>\n",
       "      <th>...</th>\n",
       "      <th colspan=\"3\" halign=\"left\">IBM</th>\n",
       "      <th colspan=\"7\" halign=\"left\">MRFT</th>\n",
       "    </tr>\n",
       "    <tr>\n",
       "      <th></th>\n",
       "      <th>Date</th>\n",
       "      <th>Open</th>\n",
       "      <th>High</th>\n",
       "      <th>Low</th>\n",
       "      <th>Close</th>\n",
       "      <th>Volume</th>\n",
       "      <th>mvg_Avg</th>\n",
       "      <th>Date</th>\n",
       "      <th>Open</th>\n",
       "      <th>High</th>\n",
       "      <th>...</th>\n",
       "      <th>Close</th>\n",
       "      <th>Volume</th>\n",
       "      <th>mvg_avg</th>\n",
       "      <th>Date</th>\n",
       "      <th>Open</th>\n",
       "      <th>High</th>\n",
       "      <th>Low</th>\n",
       "      <th>Close</th>\n",
       "      <th>Volume</th>\n",
       "      <th>mvg_data</th>\n",
       "    </tr>\n",
       "  </thead>\n",
       "  <tbody>\n",
       "    <tr>\n",
       "      <th>0</th>\n",
       "      <td>2016-09-01</td>\n",
       "      <td>106.14</td>\n",
       "      <td>106.80</td>\n",
       "      <td>105.62</td>\n",
       "      <td>106.73</td>\n",
       "      <td>26701523</td>\n",
       "      <td>NaN</td>\n",
       "      <td>2016-09-01</td>\n",
       "      <td>791.98</td>\n",
       "      <td>792.89</td>\n",
       "      <td>...</td>\n",
       "      <td>159.54</td>\n",
       "      <td>2358385</td>\n",
       "      <td>NaN</td>\n",
       "      <td>2016-09-01</td>\n",
       "      <td>57.01</td>\n",
       "      <td>57.82</td>\n",
       "      <td>57.01</td>\n",
       "      <td>57.59</td>\n",
       "      <td>26075363</td>\n",
       "      <td>NaN</td>\n",
       "    </tr>\n",
       "    <tr>\n",
       "      <th>1</th>\n",
       "      <td>2016-09-02</td>\n",
       "      <td>107.70</td>\n",
       "      <td>108.00</td>\n",
       "      <td>106.82</td>\n",
       "      <td>107.73</td>\n",
       "      <td>26334858</td>\n",
       "      <td>NaN</td>\n",
       "      <td>2016-09-02</td>\n",
       "      <td>795.27</td>\n",
       "      <td>797.10</td>\n",
       "      <td>...</td>\n",
       "      <td>159.55</td>\n",
       "      <td>2315366</td>\n",
       "      <td>NaN</td>\n",
       "      <td>2016-09-02</td>\n",
       "      <td>57.67</td>\n",
       "      <td>58.19</td>\n",
       "      <td>57.42</td>\n",
       "      <td>57.67</td>\n",
       "      <td>18900489</td>\n",
       "      <td>NaN</td>\n",
       "    </tr>\n",
       "    <tr>\n",
       "      <th>2</th>\n",
       "      <td>2016-09-06</td>\n",
       "      <td>107.90</td>\n",
       "      <td>108.30</td>\n",
       "      <td>107.51</td>\n",
       "      <td>107.70</td>\n",
       "      <td>26880391</td>\n",
       "      <td>NaN</td>\n",
       "      <td>2016-09-06</td>\n",
       "      <td>798.39</td>\n",
       "      <td>810.89</td>\n",
       "      <td>...</td>\n",
       "      <td>160.35</td>\n",
       "      <td>2994056</td>\n",
       "      <td>NaN</td>\n",
       "      <td>2016-09-06</td>\n",
       "      <td>57.78</td>\n",
       "      <td>57.80</td>\n",
       "      <td>57.21</td>\n",
       "      <td>57.61</td>\n",
       "      <td>16278416</td>\n",
       "      <td>NaN</td>\n",
       "    </tr>\n",
       "    <tr>\n",
       "      <th>3</th>\n",
       "      <td>2016-09-07</td>\n",
       "      <td>107.83</td>\n",
       "      <td>108.76</td>\n",
       "      <td>107.07</td>\n",
       "      <td>108.36</td>\n",
       "      <td>42364328</td>\n",
       "      <td>NaN</td>\n",
       "      <td>2016-09-07</td>\n",
       "      <td>807.93</td>\n",
       "      <td>810.60</td>\n",
       "      <td>...</td>\n",
       "      <td>161.64</td>\n",
       "      <td>2867257</td>\n",
       "      <td>NaN</td>\n",
       "      <td>2016-09-07</td>\n",
       "      <td>57.47</td>\n",
       "      <td>57.84</td>\n",
       "      <td>57.40</td>\n",
       "      <td>57.66</td>\n",
       "      <td>17493359</td>\n",
       "      <td>NaN</td>\n",
       "    </tr>\n",
       "    <tr>\n",
       "      <th>4</th>\n",
       "      <td>2016-09-08</td>\n",
       "      <td>107.25</td>\n",
       "      <td>107.27</td>\n",
       "      <td>105.24</td>\n",
       "      <td>105.52</td>\n",
       "      <td>53002026</td>\n",
       "      <td>35056625.2</td>\n",
       "      <td>2016-09-08</td>\n",
       "      <td>805.22</td>\n",
       "      <td>808.42</td>\n",
       "      <td>...</td>\n",
       "      <td>159.00</td>\n",
       "      <td>3963164</td>\n",
       "      <td>2899645.6</td>\n",
       "      <td>2016-09-08</td>\n",
       "      <td>57.63</td>\n",
       "      <td>57.79</td>\n",
       "      <td>57.18</td>\n",
       "      <td>57.43</td>\n",
       "      <td>20146083</td>\n",
       "      <td>19778742.0</td>\n",
       "    </tr>\n",
       "  </tbody>\n",
       "</table>\n",
       "<p>5 rows × 28 columns</p>\n",
       "</div>"
      ],
      "text/plain": [
       "         APPL                                                        \\\n",
       "         Date    Open    High     Low   Close    Volume     mvg_Avg   \n",
       "0  2016-09-01  106.14  106.80  105.62  106.73  26701523         NaN   \n",
       "1  2016-09-02  107.70  108.00  106.82  107.73  26334858         NaN   \n",
       "2  2016-09-06  107.90  108.30  107.51  107.70  26880391         NaN   \n",
       "3  2016-09-07  107.83  108.76  107.07  108.36  42364328         NaN   \n",
       "4  2016-09-08  107.25  107.27  105.24  105.52  53002026  35056625.2   \n",
       "\n",
       "        GOOGL                  ...     IBM                            MRFT  \\\n",
       "         Date    Open    High  ...   Close   Volume    mvg_avg        Date   \n",
       "0  2016-09-01  791.98  792.89  ...  159.54  2358385        NaN  2016-09-01   \n",
       "1  2016-09-02  795.27  797.10  ...  159.55  2315366        NaN  2016-09-02   \n",
       "2  2016-09-06  798.39  810.89  ...  160.35  2994056        NaN  2016-09-06   \n",
       "3  2016-09-07  807.93  810.60  ...  161.64  2867257        NaN  2016-09-07   \n",
       "4  2016-09-08  805.22  808.42  ...  159.00  3963164  2899645.6  2016-09-08   \n",
       "\n",
       "                                                     \n",
       "    Open   High    Low  Close    Volume    mvg_data  \n",
       "0  57.01  57.82  57.01  57.59  26075363         NaN  \n",
       "1  57.67  58.19  57.42  57.67  18900489         NaN  \n",
       "2  57.78  57.80  57.21  57.61  16278416         NaN  \n",
       "3  57.47  57.84  57.40  57.66  17493359         NaN  \n",
       "4  57.63  57.79  57.18  57.43  20146083  19778742.0  \n",
       "\n",
       "[5 rows x 28 columns]"
      ]
     },
     "execution_count": 99,
     "metadata": {},
     "output_type": "execute_result"
    }
   ],
   "source": [
    "tech_stocks.head()"
   ]
  },
  {
   "cell_type": "code",
   "execution_count": 112,
   "metadata": {},
   "outputs": [],
   "source": [
    "##\n",
    "# when using lvel=0, means taking value on 1st column-level (ticker) i.e. MSFT,AAPL etc\n",
    "# when using lvel=1, means taking values on inner-column i.e. date, open,close etc \n",
    "tech_stock_close =tech_stocks.xs('Close',level=1,axis=1)"
   ]
  },
  {
   "cell_type": "code",
   "execution_count": 113,
   "metadata": {},
   "outputs": [],
   "source": [
    "tech_stock_close_corr = tech_stock_close.corr()"
   ]
  },
  {
   "cell_type": "code",
   "execution_count": 114,
   "metadata": {},
   "outputs": [
    {
     "data": {
      "text/html": [
       "<div>\n",
       "<style scoped>\n",
       "    .dataframe tbody tr th:only-of-type {\n",
       "        vertical-align: middle;\n",
       "    }\n",
       "\n",
       "    .dataframe tbody tr th {\n",
       "        vertical-align: top;\n",
       "    }\n",
       "\n",
       "    .dataframe thead th {\n",
       "        text-align: right;\n",
       "    }\n",
       "</style>\n",
       "<table border=\"1\" class=\"dataframe\">\n",
       "  <thead>\n",
       "    <tr style=\"text-align: right;\">\n",
       "      <th></th>\n",
       "      <th>APPL</th>\n",
       "      <th>GOOGL</th>\n",
       "      <th>IBM</th>\n",
       "      <th>MRFT</th>\n",
       "    </tr>\n",
       "  </thead>\n",
       "  <tbody>\n",
       "    <tr>\n",
       "      <th>APPL</th>\n",
       "      <td>1.000000</td>\n",
       "      <td>0.875538</td>\n",
       "      <td>0.226468</td>\n",
       "      <td>0.894510</td>\n",
       "    </tr>\n",
       "    <tr>\n",
       "      <th>GOOGL</th>\n",
       "      <td>0.875538</td>\n",
       "      <td>1.000000</td>\n",
       "      <td>-0.102365</td>\n",
       "      <td>0.837416</td>\n",
       "    </tr>\n",
       "    <tr>\n",
       "      <th>IBM</th>\n",
       "      <td>0.226468</td>\n",
       "      <td>-0.102365</td>\n",
       "      <td>1.000000</td>\n",
       "      <td>0.289308</td>\n",
       "    </tr>\n",
       "    <tr>\n",
       "      <th>MRFT</th>\n",
       "      <td>0.894510</td>\n",
       "      <td>0.837416</td>\n",
       "      <td>0.289308</td>\n",
       "      <td>1.000000</td>\n",
       "    </tr>\n",
       "  </tbody>\n",
       "</table>\n",
       "</div>"
      ],
      "text/plain": [
       "           APPL     GOOGL       IBM      MRFT\n",
       "APPL   1.000000  0.875538  0.226468  0.894510\n",
       "GOOGL  0.875538  1.000000 -0.102365  0.837416\n",
       "IBM    0.226468 -0.102365  1.000000  0.289308\n",
       "MRFT   0.894510  0.837416  0.289308  1.000000"
      ]
     },
     "execution_count": 114,
     "metadata": {},
     "output_type": "execute_result"
    }
   ],
   "source": [
    "tech_stock_close_corr"
   ]
  },
  {
   "cell_type": "code",
   "execution_count": null,
   "metadata": {},
   "outputs": [],
   "source": [
    "#### So here IBM are -ve corelated w.r.t APPL,GOOGL and very less corelated w.r.t MRSFT\n",
    "### So APPL,GOOGL,MRSFT are +ve corelated to each other while IBM "
   ]
  },
  {
   "cell_type": "code",
   "execution_count": 119,
   "metadata": {},
   "outputs": [
    {
     "data": {
      "image/png": "[encoded data removed]",
      "text/plain": [
       "<Figure size 432x288 with 2 Axes>"
      ]
     },
     "metadata": {
      "needs_background": "light"
     },
     "output_type": "display_data"
    }
   ],
   "source": [
    "sns.heatmap(tech_stock_close_corr,annot=True,cmap='coolwarm')\n",
    "plt.show()"
   ]
  },
  {
   "cell_type": "markdown",
   "metadata": {},
   "source": [
    "### It shows corelation w.r.t. to each stocks .. easy to see using heatmap"
   ]
  },
  {
   "cell_type": "code",
   "execution_count": null,
   "metadata": {},
   "outputs": [],
   "source": []
  }
 ],
 "metadata": {
  "kernelspec": {
   "display_name": "Python 3",
   "language": "python",
   "name": "python3"
  },
  "language_info": {
   "codemirror_mode": {
    "name": "ipython",
    "version": 3
   },
   "file_extension": ".py",
   "mimetype": "text/x-python",
   "name": "python",
   "nbconvert_exporter": "python",
   "pygments_lexer": "ipython3",
   "version": "3.6.7"
  }
 },
 "nbformat": 4,
 "nbformat_minor": 2
}
